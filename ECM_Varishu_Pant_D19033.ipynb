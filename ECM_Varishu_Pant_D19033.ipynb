{
 "cells": [
  {
   "cell_type": "markdown",
   "metadata": {},
   "source": [
    "# Time Series Analysis using Unobserved Components Model"
   ]
  },
  {
   "cell_type": "markdown",
   "metadata": {},
   "source": [
    "-By Varishu Pant  \n",
    "    D19033  \n",
    "    Praxis Business School  \n",
    "    Bangalore  \n",
    "Check it out- <a href=\"https://medium.com/@varishupant/tsa-ucm-python-5fde69d42e28\">Blog on Medium</a>"
   ]
  },
  {
   "cell_type": "markdown",
   "metadata": {},
   "source": [
    "### What is UCM?\n",
    "Unobserved Components Model (UCM) (Harvey (1989)) performs a time series decomposition into components such as trend, seasonal, cycle, and the regression effects due to predictor series.\n",
    "\n",
    "### Credits where they're due-\n",
    "In an influential article, Harvey and Jaeger (1993) described the use of unobserved components models (also known as \"structural time series models\") to derive stylized facts of the business cycle. In particular, they make the argument that these goals are often better met using the unobserved components approach rather than the popular Hodrick-Prescott filter or Box-Jenkins ARIMA modeling techniques. Taking inspiration from Harvey and Jaeger I consider the following time series:\n",
    "- US real GNP, \"output\", (GNPC96)\n",
    "- US GNP implicit price deflator, \"prices\", (GNPDEF)\n",
    "\n",
    "The time frame in the original paper varied across series but was broadly 1954–1989. Below I use data from the period 1970–2020 for all series. Although the unobserved components approach allows isolating a seasonal component within the model, the series considered in the paper, and here, are already seasonally adjusted. All data series considered here are taken from the Federal Reserve Economic Data (FRED). Conveniently, the Python library Pandas can download data from FRED directly.\n",
    "\n",
    "You can expect a deep dive into the theory behind UCM as well as the hands-on implementation of UCM on real-world data."
   ]
  },
  {
   "cell_type": "markdown",
   "metadata": {},
   "source": [
    "## Importing Required Libraries"
   ]
  },
  {
   "cell_type": "code",
   "execution_count": 4,
   "metadata": {},
   "outputs": [],
   "source": [
    "%matplotlib inline\n",
    "\n",
    "import numpy as np\n",
    "import pandas as pd\n",
    "import statsmodels.api as sm\n",
    "import matplotlib.pyplot as plt\n",
    "\n",
    "from IPython.display import display, Latex"
   ]
  },
  {
   "cell_type": "markdown",
   "metadata": {},
   "source": [
    "## Getting Data"
   ]
  },
  {
   "cell_type": "code",
   "execution_count": 108,
   "metadata": {},
   "outputs": [],
   "source": [
    "from pandas_datareader.data import DataReader\n",
    "\n",
    "# Get the raw data\n",
    "start = '1970-01'      #From 1/1/1970\n",
    "end = '2020-01'        #Till 1/7/2019\n",
    "us_gnp = DataReader('GNPC96', 'fred', start=start, end=end)\n",
    "us_gnp_deflator = DataReader('GNPDEF', 'fred', start=start, end=end)\n",
    "\n",
    "# Construct the dataframe\n",
    "dta = pd.concat(map(np.log, (us_gnp, us_gnp_deflator)), axis=1)\n",
    "dta.columns = ['US GNP','US Prices']\n",
    "dates = dta.index._mpl_repr()"
   ]
  },
  {
   "cell_type": "code",
   "execution_count": 109,
   "metadata": {},
   "outputs": [
    {
     "data": {
      "text/html": [
       "<div>\n",
       "<style scoped>\n",
       "    .dataframe tbody tr th:only-of-type {\n",
       "        vertical-align: middle;\n",
       "    }\n",
       "\n",
       "    .dataframe tbody tr th {\n",
       "        vertical-align: top;\n",
       "    }\n",
       "\n",
       "    .dataframe thead th {\n",
       "        text-align: right;\n",
       "    }\n",
       "</style>\n",
       "<table border=\"1\" class=\"dataframe\">\n",
       "  <thead>\n",
       "    <tr style=\"text-align: right;\">\n",
       "      <th></th>\n",
       "      <th>US GNP</th>\n",
       "      <th>US Prices</th>\n",
       "    </tr>\n",
       "    <tr>\n",
       "      <th>DATE</th>\n",
       "      <th></th>\n",
       "      <th></th>\n",
       "    </tr>\n",
       "  </thead>\n",
       "  <tbody>\n",
       "    <tr>\n",
       "      <td>1970-01-01</td>\n",
       "      <td>8.51</td>\n",
       "      <td>3.06</td>\n",
       "    </tr>\n",
       "    <tr>\n",
       "      <td>1970-04-01</td>\n",
       "      <td>8.51</td>\n",
       "      <td>3.07</td>\n",
       "    </tr>\n",
       "    <tr>\n",
       "      <td>1970-07-01</td>\n",
       "      <td>8.52</td>\n",
       "      <td>3.08</td>\n",
       "    </tr>\n",
       "    <tr>\n",
       "      <td>1970-10-01</td>\n",
       "      <td>8.51</td>\n",
       "      <td>3.09</td>\n",
       "    </tr>\n",
       "    <tr>\n",
       "      <td>1971-01-01</td>\n",
       "      <td>8.54</td>\n",
       "      <td>3.11</td>\n",
       "    </tr>\n",
       "  </tbody>\n",
       "</table>\n",
       "</div>"
      ],
      "text/plain": [
       "            US GNP  US Prices\n",
       "DATE                         \n",
       "1970-01-01    8.51       3.06\n",
       "1970-04-01    8.51       3.07\n",
       "1970-07-01    8.52       3.08\n",
       "1970-10-01    8.51       3.09\n",
       "1971-01-01    8.54       3.11"
      ]
     },
     "execution_count": 109,
     "metadata": {},
     "output_type": "execute_result"
    }
   ],
   "source": [
    "dta.head()"
   ]
  },
  {
   "cell_type": "code",
   "execution_count": 118,
   "metadata": {},
   "outputs": [
    {
     "data": {
      "text/html": [
       "<div>\n",
       "<style scoped>\n",
       "    .dataframe tbody tr th:only-of-type {\n",
       "        vertical-align: middle;\n",
       "    }\n",
       "\n",
       "    .dataframe tbody tr th {\n",
       "        vertical-align: top;\n",
       "    }\n",
       "\n",
       "    .dataframe thead th {\n",
       "        text-align: right;\n",
       "    }\n",
       "</style>\n",
       "<table border=\"1\" class=\"dataframe\">\n",
       "  <thead>\n",
       "    <tr style=\"text-align: right;\">\n",
       "      <th></th>\n",
       "      <th>US GNP</th>\n",
       "      <th>US Prices</th>\n",
       "    </tr>\n",
       "    <tr>\n",
       "      <th>DATE</th>\n",
       "      <th></th>\n",
       "      <th></th>\n",
       "    </tr>\n",
       "  </thead>\n",
       "  <tbody>\n",
       "    <tr>\n",
       "      <td>2018-07-01</td>\n",
       "      <td>9.85</td>\n",
       "      <td>4.71</td>\n",
       "    </tr>\n",
       "    <tr>\n",
       "      <td>2018-10-01</td>\n",
       "      <td>9.85</td>\n",
       "      <td>4.71</td>\n",
       "    </tr>\n",
       "    <tr>\n",
       "      <td>2019-01-01</td>\n",
       "      <td>9.86</td>\n",
       "      <td>4.71</td>\n",
       "    </tr>\n",
       "    <tr>\n",
       "      <td>2019-04-01</td>\n",
       "      <td>9.87</td>\n",
       "      <td>4.72</td>\n",
       "    </tr>\n",
       "    <tr>\n",
       "      <td>2019-07-01</td>\n",
       "      <td>9.87</td>\n",
       "      <td>4.72</td>\n",
       "    </tr>\n",
       "  </tbody>\n",
       "</table>\n",
       "</div>"
      ],
      "text/plain": [
       "            US GNP  US Prices\n",
       "DATE                         \n",
       "2018-07-01    9.85       4.71\n",
       "2018-10-01    9.85       4.71\n",
       "2019-01-01    9.86       4.71\n",
       "2019-04-01    9.87       4.72\n",
       "2019-07-01    9.87       4.72"
      ]
     },
     "execution_count": 118,
     "metadata": {},
     "output_type": "execute_result"
    }
   ],
   "source": [
    "dta.tail()"
   ]
  },
  {
   "cell_type": "code",
   "execution_count": 110,
   "metadata": {
    "scrolled": true
   },
   "outputs": [
    {
     "data": {
      "image/png": "[encoded data removed]",
      "text/plain": [
       "<Figure size 936x216 with 1 Axes>"
      ]
     },
     "metadata": {
      "needs_background": "light"
     },
     "output_type": "display_data"
    }
   ],
   "source": [
    "ax = dta.plot(figsize=(13,3))\n",
    "ylim = ax.get_ylim()\n",
    "ax.xaxis.grid()\n",
    "ax.fill_between(dates, ylim[0]+1e-5, ylim[1]-1e-5,facecolor='k', alpha=0.1);"
   ]
  },
  {
   "cell_type": "markdown",
   "metadata": {},
   "source": [
    "## About the Model-"
   ]
  },
  {
   "cell_type": "markdown",
   "metadata": {},
   "source": [
    "## Unobserved Components\n",
    "The unobserved components model available in statsmodels can be written as:"
   ]
  },
  {
   "cell_type": "markdown",
   "metadata": {},
   "source": [
    "$y_t = \\underbrace{\\mu_{t}}_{\\text{trend}} + \\underbrace{\\gamma_{t}}_{\\text{seasonal}} + \\underbrace{c_{t}}_{\\text{cycle}} + \\sum_{j=1}^k \\underbrace{\\beta_j x_{jt}}_{\\text{explanatory}} + \\underbrace{\\varepsilon_t}_{\\text{irregular}}$"
   ]
  },
  {
   "cell_type": "markdown",
   "metadata": {},
   "source": [
    "Now we know: Response Time Series = Superposition of components such as Trend, Seasons, Cycles, and Regression effects…\n",
    "Each component in the model captures some important features of the series dynamics. Components in the model have their probabilistic models. The probabilistic component models include meaningful deterministic patterns as special cases."
   ]
  },
  {
   "cell_type": "markdown",
   "metadata": {},
   "source": [
    "### Trend\n",
    "The trend component is a dynamic extension of a regression model that includes an intercept and linear time-trend."
   ]
  },
  {
   "cell_type": "markdown",
   "metadata": {},
   "source": [
    "$\\begin{split}\\begin{align}\n",
    "\\underbrace{\\mu_{t+1}}_{\\text{level}} & = \\mu_t + \\nu_t + \\eta_{t+1} \\qquad & \\eta_{t+1} \\sim N(0, \\sigma_\\eta^2) \\\\\\\\\n",
    "\\underbrace{\\nu_{t+1}}_{\\text{trend}} & = \\nu_t + \\zeta_{t+1} & \\zeta_{t+1} \\sim N(0, \\sigma_\\zeta^2) \\\\\n",
    "\\end{align}\\end{split}$"
   ]
  },
  {
   "cell_type": "markdown",
   "metadata": {},
   "source": [
    "where the level is a generalization of the intercept term that can dynamically vary across time, and the trend is a generalization of the time-trend such that the slope can dynamically vary across time.\n",
    "For both elements (level and trend), we can consider models in which:\n",
    "The element is included vs excluded (if the trend is included, there must also be a level included).\n",
    "The element is deterministic vs stochastic (i.e. whether or not the variance on the error term is confined to be zero or not)  \n",
    "Trends are loosely defined as the natural tendency of the series to increase or decrease or remain constant over a period of time in absence of any other influencing variable.UCM can model trend in two ways; first being the random walk model implying that trend remains roughly constant over the time period of the series, and the second being locally linear trend having an upward or downward slope."
   ]
  },
  {
   "cell_type": "markdown",
   "metadata": {},
   "source": [
    "\n",
    "### Seasonal\n",
    "The seasonal component is written as:"
   ]
  },
  {
   "cell_type": "markdown",
   "metadata": {},
   "source": [
    "$\\gamma_t = - \\sum_{j=1}^{s-1} \\gamma_{t+1-j} + \\omega_t \\qquad \\omega_t \\sim N(0, \\sigma_\\omega^2)$"
   ]
  },
  {
   "cell_type": "markdown",
   "metadata": {},
   "source": [
    "The periodicity (number of seasons) is s, and the defining character is that (without the error term), the seasonal components sum to zero across one complete cycle. The inclusion of an error term allows the seasonal effects to vary over time.\n",
    "\n",
    "The variants of this model are:\n",
    "\n",
    "-The periodicity s\n",
    "\n",
    "-Whether or not to make the seasonal effects stochastic.\n",
    "\n",
    "If the seasonal effect is stochastic, then there is one additional parameter to estimate via MLE (the variance of the error term)."
   ]
  },
  {
   "cell_type": "markdown",
   "metadata": {},
   "source": [
    "A seasonal pattern exists when there exists a consistent pattern of variation influenced by seasonal factors (e.g., the quarter of the year, or day of the week, etc.).\n",
    "#### Representations of Seasonal Pattern(Period=s)-\n",
    "As a list of s numbers that sum to zero\n",
    "As a sum of [s/2] deterministic, undamped cycles, called harmonics, of periods s, s/2, s/3, …\n",
    "\n",
    "Here [s/2] = s/2 if s is even and [s/2] = (s-1)/2 if s is odd.\n",
    "Example: For s = 12, the seasonal pattern can always be written as a sum of six cycles with periods 12, 6, 4, 3, 2.4, and 2.\n"
   ]
  },
  {
   "cell_type": "markdown",
   "metadata": {},
   "source": [
    "### Cycle\n",
    "The cyclical component is intended to capture cyclical effects at time frames much longer than captured by the seasonal component. For example, in economics the cyclical term is often intended to capture the business cycle, and is then expected to have a period between “1.5 and 12 years” (see Durbin and Koopman).\n",
    "\n",
    "The cycle is written as:"
   ]
  },
  {
   "cell_type": "markdown",
   "metadata": {},
   "source": [
    "$\\begin{split}\\begin{align}\n",
    "c_{t+1} & = c_t \\cos \\lambda_c + c_t^* \\sin \\lambda_c + \\tilde \\omega_t \\qquad & \\tilde \\omega_t \\sim N(0, \\sigma_{\\tilde \\omega}^2) \\\\\\\\\n",
    "c_{t+1}^* & = -c_t \\sin \\lambda_c + c_t^* \\cos \\lambda_c + \\tilde \\omega_t^* & \\tilde \\omega_t^* \\sim N(0, \\sigma_{\\tilde \\omega}^2)\n",
    "\\end{align}\\end{split}$"
   ]
  },
  {
   "cell_type": "markdown",
   "metadata": {},
   "source": [
    "The parameter λc (the frequency of the cycle) is an additional parameter to be estimated by MLE. If the seasonal effect is stochastic, then there is one another parameter to estimate (the variance of the error term - note that both of the error terms here share the same variance, but are assumed to have independent draws).\n",
    "\n"
   ]
  },
  {
   "cell_type": "markdown",
   "metadata": {},
   "source": [
    "### Irregular\n",
    "The irregular component is assumed to be a white noise error term. Its variance is a parameter to be estimated by MLE; i.e."
   ]
  },
  {
   "cell_type": "markdown",
   "metadata": {},
   "source": [
    "$\\varepsilon_t \\sim N(0, \\sigma_\\varepsilon^2)$"
   ]
  },
  {
   "cell_type": "markdown",
   "metadata": {},
   "source": [
    "In some cases, we may want to generalize the irregular component to allow for autoregressive effects:"
   ]
  },
  {
   "cell_type": "markdown",
   "metadata": {},
   "source": [
    "$\\varepsilon_t = \\rho(L) \\varepsilon_{t-1} + \\epsilon_t, \\qquad \\epsilon_t \\sim N(0, \\sigma_\\epsilon^2)$"
   ]
  },
  {
   "cell_type": "markdown",
   "metadata": {},
   "source": [
    "In this case, the autoregressive parameters would also be estimated via MLE."
   ]
  },
  {
   "cell_type": "markdown",
   "metadata": {},
   "source": [
    "### Regression effects"
   ]
  },
  {
   "cell_type": "markdown",
   "metadata": {},
   "source": [
    "We may want to allow for explanatory variables by including additional terms"
   ]
  },
  {
   "cell_type": "markdown",
   "metadata": {},
   "source": [
    "$\\sum_{j=1}^k \\beta_j x_{jt}$"
   ]
  },
  {
   "cell_type": "markdown",
   "metadata": {},
   "source": [
    "or for intervention effects by including  \n",
    "\n",
    "$\\begin{split}\\begin{align}\n",
    "\\delta w_t \\qquad \\text{where} \\qquad w_t & = 0, \\qquad t < \\tau, \\\\\\\\\n",
    "& = 1, \\qquad t \\ge \\tau\n",
    "\\end{align}\\end{split}$  \n",
    "\n",
    "These additional parameters could be estimated via MLE or by including them as components of the state space formulation."
   ]
  },
  {
   "cell_type": "markdown",
   "metadata": {},
   "source": [
    "## Fitting UCM Models"
   ]
  },
  {
   "cell_type": "markdown",
   "metadata": {},
   "source": [
    "Since the data is already seasonally adjusted and there are no obvious explanatory variables, the generic model considered is:  \n",
    "$y_t = \\underbrace{\\mu_{t}}_{\\text{trend}} + \\underbrace{c_{t}}_{\\text{cycle}} + \\underbrace{\\varepsilon_t}_{\\text{irregular}}$  \n",
    "The irregular will be assumed to be white noise, and the cycle will be stochastic and damped. The final modeling choice is the specification to use for the trend component. Harvey and Jaeger consider two models:\n",
    "\n",
    "Local linear trend (the “unrestricted” model)\n",
    "\n",
    "Smooth trend (the “restricted” model, since we are forcing ση=0)\n",
    "\n",
    "Below, we construct kwargs dictionaries for each of these model types. Notice that rather that there are two ways to specify the models. One way is to specify components directly, as in the table above. The other way is to use string names which map to various specifications."
   ]
  },
  {
   "cell_type": "code",
   "execution_count": 111,
   "metadata": {},
   "outputs": [],
   "source": [
    "# Model specifications\n",
    "# Unrestricted model, using string specification\n",
    "unrestricted_model = {\n",
    "    'level': 'local linear trend', 'cycle': True, 'damped_cycle': True, 'stochastic_cycle': True\n",
    "}\n",
    "# local linear trend model with a stochastic damped cycle:\n",
    "# unrestricted_model = {\n",
    "#     'irregular': True, 'level': True, 'stochastic_level': True, 'trend': True, 'stochastic_trend': True,\n",
    "#     'cycle': True, 'damped_cycle': True, 'stochastic_cycle': True\n",
    "# \n",
    "# The restricted model forces a smooth trend\n",
    "restricted_model = {\n",
    "    'level': 'smooth trend', 'cycle': True, 'damped_cycle': True, 'stochastic_cycle': True\n",
    "}\n",
    "\n",
    "# smooth trend model with a stochastic damped cycle. Notice\n",
    "# that the difference from the local linear trend model is that\n",
    "# `stochastic_level=False` here."
   ]
  },
  {
   "cell_type": "markdown",
   "metadata": {},
   "source": [
    "We now fit the following models:  \n",
    "\n",
    "Output, unrestricted model  \n",
    "Prices, unrestricted model  \n",
    "Prices, restricted model"
   ]
  },
  {
   "cell_type": "code",
   "execution_count": 112,
   "metadata": {},
   "outputs": [
    {
     "name": "stderr",
     "output_type": "stream",
     "text": [
      "C:\\ProgramData\\Anaconda3\\lib\\site-packages\\statsmodels\\tsa\\base\\tsa_model.py:165: ValueWarning: No frequency information was provided, so inferred frequency QS-OCT will be used.\n",
      "  % freq, ValueWarning)\n",
      "C:\\ProgramData\\Anaconda3\\lib\\site-packages\\statsmodels\\tsa\\base\\tsa_model.py:165: ValueWarning: No frequency information was provided, so inferred frequency QS-OCT will be used.\n",
      "  % freq, ValueWarning)\n",
      "C:\\ProgramData\\Anaconda3\\lib\\site-packages\\statsmodels\\tsa\\base\\tsa_model.py:165: ValueWarning: No frequency information was provided, so inferred frequency QS-OCT will be used.\n",
      "  % freq, ValueWarning)\n"
     ]
    }
   ],
   "source": [
    "# Output\n",
    "output_mod = sm.tsa.UnobservedComponents(dta['US GNP'], **unrestricted_model)\n",
    "output_res = output_mod.fit(method='powell', disp=False)\n",
    "\n",
    "# Prices\n",
    "prices_mod = sm.tsa.UnobservedComponents(dta['US Prices'], **unrestricted_model)\n",
    "prices_res = prices_mod.fit(method='powell', disp=False)\n",
    "\n",
    "prices_restricted_mod = sm.tsa.UnobservedComponents(dta['US Prices'], **restricted_model)\n",
    "prices_restricted_res = prices_restricted_mod.fit(method='powell', disp=False)"
   ]
  },
  {
   "cell_type": "markdown",
   "metadata": {},
   "source": [
    "For unobserved components models,it is often more instructive to plot the estimated unobserved components (e.g. the level, trend, and cycle) themselves to see if they provide a meaningful description of the data."
   ]
  },
  {
   "cell_type": "markdown",
   "metadata": {},
   "source": [
    "## Inference"
   ]
  },
  {
   "cell_type": "markdown",
   "metadata": {},
   "source": [
    "Let's summarize restricted plot model-"
   ]
  },
  {
   "cell_type": "code",
   "execution_count": 117,
   "metadata": {},
   "outputs": [
    {
     "name": "stdout",
     "output_type": "stream",
     "text": [
      "                            Unobserved Components Results                            \n",
      "=====================================================================================\n",
      "Dep. Variable:                     US Prices   No. Observations:                  199\n",
      "Model:                    local linear trend   Log Likelihood                 887.254\n",
      "                   + damped stochastic cycle   AIC                          -1762.508\n",
      "Date:                       Tue, 14 Jan 2020   BIC                          -1742.870\n",
      "Time:                               20:46:50   HQIC                         -1754.557\n",
      "Sample:                           01-01-1970                                         \n",
      "                                - 07-01-2019                                         \n",
      "Covariance Type:                         opg                                         \n",
      "====================================================================================\n",
      "                       coef    std err          z      P>|z|      [0.025      0.975]\n",
      "------------------------------------------------------------------------------------\n",
      "sigma2.irregular  1.411e-08   4.26e-07      0.033      0.974    -8.2e-07    8.48e-07\n",
      "sigma2.level      1.078e-06   4.11e-06      0.263      0.793   -6.97e-06    9.13e-06\n",
      "sigma2.trend       1.53e-06   7.59e-07      2.016      0.044    4.22e-08    3.02e-06\n",
      "sigma2.cycle      1.691e-06   3.21e-06      0.527      0.598    -4.6e-06    7.98e-06\n",
      "frequency.cycle      0.2652      0.027      9.814      0.000       0.212       0.318\n",
      "damping.cycle        0.9629      0.018     54.290      0.000       0.928       0.998\n",
      "===================================================================================\n",
      "Ljung-Box (Q):                       46.33   Jarque-Bera (JB):                 9.79\n",
      "Prob(Q):                              0.23   Prob(JB):                         0.01\n",
      "Heteroskedasticity (H):               0.43   Skew:                             0.09\n",
      "Prob(H) (two-sided):                  0.00   Kurtosis:                         4.08\n",
      "===================================================================================\n",
      "\n",
      "Warnings:\n",
      "[1] Covariance matrix calculated using the outer product of gradients (complex-step).\n"
     ]
    }
   ],
   "source": [
    "print(prices_res.summary())"
   ]
  },
  {
   "cell_type": "markdown",
   "metadata": {},
   "source": [
    "**Observation-**\n",
    "We observe from the estimated coefficient values that damping cycle and frequency cycle are important components of this model. Also coefficient for irregular components are almost zero indicating there isn't much error in the model."
   ]
  },
  {
   "cell_type": "markdown",
   "metadata": {},
   "source": [
    "Let's plot restricted price model-"
   ]
  },
  {
   "cell_type": "markdown",
   "metadata": {},
   "source": [
    "The plot_components method of the fit object can be used to show plots and confidence intervals of each of the estimated states, as well as a plot of the observed data versus the one-step-ahead predictions of the model to assess fit."
   ]
  },
  {
   "cell_type": "code",
   "execution_count": 113,
   "metadata": {},
   "outputs": [
    {
     "data": {
      "image/png": "[encoded data removed]",
      "text/plain": [
       "<Figure size 1080x648 with 4 Axes>"
      ]
     },
     "metadata": {
      "needs_background": "light"
     },
     "output_type": "display_data"
    }
   ],
   "source": [
    "fig = prices_res.plot_components(legend_loc='lower right', figsize=(15, 9));"
   ]
  },
  {
   "cell_type": "markdown",
   "metadata": {},
   "source": [
    "We see that the spread of the trend and cycle component is a lot lesser than the level component but on the other hand, there is way more noise in trend and cycle components compared to level."
   ]
  },
  {
   "cell_type": "markdown",
   "metadata": {},
   "source": [
    "Let's compare the 3 models using their parameters-"
   ]
  },
  {
   "cell_type": "code",
   "execution_count": 114,
   "metadata": {},
   "outputs": [
    {
     "data": {
      "text/html": [
       "<div>\n",
       "<style scoped>\n",
       "    .dataframe tbody tr th:only-of-type {\n",
       "        vertical-align: middle;\n",
       "    }\n",
       "\n",
       "    .dataframe tbody tr th {\n",
       "        vertical-align: top;\n",
       "    }\n",
       "\n",
       "    .dataframe thead th {\n",
       "        text-align: right;\n",
       "    }\n",
       "</style>\n",
       "<table border=\"1\" class=\"dataframe\">\n",
       "  <thead>\n",
       "    <tr style=\"text-align: right;\">\n",
       "      <th></th>\n",
       "      <th></th>\n",
       "      <th></th>\n",
       "      <th>$\\sigma_\\zeta^2$</th>\n",
       "      <th>$\\sigma_\\eta^2$</th>\n",
       "      <th>$\\sigma_\\kappa^2$</th>\n",
       "      <th>$\\rho$</th>\n",
       "      <th>$2 \\pi / \\lambda_c$</th>\n",
       "      <th>$\\sigma_\\varepsilon^2$</th>\n",
       "    </tr>\n",
       "    <tr>\n",
       "      <th>Series</th>\n",
       "      <th>Time range</th>\n",
       "      <th>Restrictions</th>\n",
       "      <th></th>\n",
       "      <th></th>\n",
       "      <th></th>\n",
       "      <th></th>\n",
       "      <th></th>\n",
       "      <th></th>\n",
       "    </tr>\n",
       "  </thead>\n",
       "  <tbody>\n",
       "    <tr>\n",
       "      <td>US GNP</td>\n",
       "      <td>1970:1-2019:3</td>\n",
       "      <td>None</td>\n",
       "      <td>62.29</td>\n",
       "      <td>3.86</td>\n",
       "      <td>356.9</td>\n",
       "      <td>0.93</td>\n",
       "      <td>24.68</td>\n",
       "      <td>0</td>\n",
       "    </tr>\n",
       "    <tr>\n",
       "      <td rowspan=\"2\" valign=\"top\">US Prices</td>\n",
       "      <td rowspan=\"2\" valign=\"top\">1970:1-2019:3</td>\n",
       "      <td>None</td>\n",
       "      <td>10.78</td>\n",
       "      <td>15.3</td>\n",
       "      <td>16.91</td>\n",
       "      <td>0.96</td>\n",
       "      <td>23.69</td>\n",
       "      <td>0.14</td>\n",
       "    </tr>\n",
       "    <tr>\n",
       "      <td>$\\sigma_\\eta^2 = 0$</td>\n",
       "      <td>13.45</td>\n",
       "      <td>-</td>\n",
       "      <td>26.99</td>\n",
       "      <td>0.96</td>\n",
       "      <td>23.93</td>\n",
       "      <td>0.03</td>\n",
       "    </tr>\n",
       "  </tbody>\n",
       "</table>\n",
       "</div>"
      ],
      "text/plain": [
       "                                             $\\sigma_\\zeta^2$  \\\n",
       "Series    Time range    Restrictions                            \n",
       "US GNP    1970:1-2019:3 None                            62.29   \n",
       "US Prices 1970:1-2019:3 None                            10.78   \n",
       "                        $\\sigma_\\eta^2 = 0$             13.45   \n",
       "\n",
       "                                             $\\sigma_\\eta^2$  \\\n",
       "Series    Time range    Restrictions                           \n",
       "US GNP    1970:1-2019:3 None                            3.86   \n",
       "US Prices 1970:1-2019:3 None                            15.3   \n",
       "                        $\\sigma_\\eta^2 = 0$                -   \n",
       "\n",
       "                                             $\\sigma_\\kappa^2$  $\\rho$  \\\n",
       "Series    Time range    Restrictions                                     \n",
       "US GNP    1970:1-2019:3 None                             356.9    0.93   \n",
       "US Prices 1970:1-2019:3 None                             16.91    0.96   \n",
       "                        $\\sigma_\\eta^2 = 0$              26.99    0.96   \n",
       "\n",
       "                                             $2 \\pi / \\lambda_c$  \\\n",
       "Series    Time range    Restrictions                               \n",
       "US GNP    1970:1-2019:3 None                               24.68   \n",
       "US Prices 1970:1-2019:3 None                               23.69   \n",
       "                        $\\sigma_\\eta^2 = 0$                23.93   \n",
       "\n",
       "                                             $\\sigma_\\varepsilon^2$  \n",
       "Series    Time range    Restrictions                                 \n",
       "US GNP    1970:1-2019:3 None                                      0  \n",
       "US Prices 1970:1-2019:3 None                                   0.14  \n",
       "                        $\\sigma_\\eta^2 = 0$                    0.03  "
      ]
     },
     "execution_count": 114,
     "metadata": {},
     "output_type": "execute_result"
    }
   ],
   "source": [
    "# Create Table I\n",
    "table_i = np.zeros((3,6))\n",
    "\n",
    "start = dta.index[0]\n",
    "end = dta.index[-1]\n",
    "time_range = '%d:%d-%d:%d' % (start.year, start.quarter, end.year, end.quarter)\n",
    "models = [\n",
    "    ('US GNP', time_range, 'None'),\n",
    "    ('US Prices', time_range, 'None'),\n",
    "    ('US Prices', time_range, r'$\\sigma_\\eta^2 = 0$'),\n",
    "    ]\n",
    "index = pd.MultiIndex.from_tuples(models, names=['Series', 'Time range', 'Restrictions'])\n",
    "parameter_symbols = [\n",
    "    r'$\\sigma_\\zeta^2$', r'$\\sigma_\\eta^2$', r'$\\sigma_\\kappa^2$', r'$\\rho$',\n",
    "    r'$2 \\pi / \\lambda_c$', r'$\\sigma_\\varepsilon^2$',\n",
    "]\n",
    "\n",
    "i = 0\n",
    "for res in (output_res,prices_res, prices_restricted_res):\n",
    "    if res.model.stochastic_level:\n",
    "        (sigma_irregular, sigma_level, sigma_trend,\n",
    "         sigma_cycle, frequency_cycle, damping_cycle) = res.params\n",
    "    else:\n",
    "        (sigma_irregular, sigma_level,\n",
    "         sigma_cycle, frequency_cycle, damping_cycle) = res.params\n",
    "        sigma_trend = np.nan\n",
    "    period_cycle = 2 * np.pi / frequency_cycle\n",
    "\n",
    "    table_i[i, :] = [\n",
    "        sigma_level*1e7, sigma_trend*1e7,\n",
    "        sigma_cycle*1e7, damping_cycle, period_cycle,\n",
    "        sigma_irregular*1e7\n",
    "    ]\n",
    "    i += 1\n",
    "\n",
    "pd.set_option('float_format', lambda x: '%.4g' % np.round(x, 2) if not np.isnan(x) else '-')\n",
    "table_i = pd.DataFrame(table_i, index=index, columns=parameter_symbols)\n",
    "table_i"
   ]
  },
  {
   "cell_type": "markdown",
   "metadata": {},
   "source": [
    "**Observations-**\n",
    "- Coefficients are in the order - - level, trend,cycle, damping_cycle, period_cycle(= $2 \\pi /$frequency_cycle) and irregular.\n",
    "- Also, all values except damping and period cycles are scaled up by multiplying 1e7.\n",
    "- For the unrestricted model on GNP, the coefficient of the period cycle is 24.63, highest among others, signifying that it is the most important component for this model.\n",
    "- In the restricted price model, there is no coefficient for trend as our restriction states that trend is not stochastic.\n",
    "- Relatively, cycle component is stronger for GNP model than other models."
   ]
  },
  {
   "cell_type": "markdown",
   "metadata": {},
   "source": [
    "**NOTE FOR READERS-**  \n",
    "Hi! Hope this was helpful! For more information on different variants of component models (example Seasonal models can be divided into 2 types namely,Stochastic Dummy Variable Seasonal Model and Deterministic Dummy Variable Seasonal Model) ,head over to my blog on medium. Here's the link-\n",
    "<a href=\"https://medium.com/@varishupant/tsa-ucm-python-5fde69d42e28\">Blog on Medium</a>"
   ]
  }
 ],
 "metadata": {
  "kernelspec": {
   "display_name": "Python 3",
   "language": "python",
   "name": "python3"
  },
  "language_info": {
   "codemirror_mode": {
    "name": "ipython",
    "version": 3
   },
   "file_extension": ".py",
   "mimetype": "text/x-python",
   "name": "python",
   "nbconvert_exporter": "python",
   "pygments_lexer": "ipython3",
   "version": "3.7.4"
  }
 },
 "nbformat": 4,
 "nbformat_minor": 2
}
